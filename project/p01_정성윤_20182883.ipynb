{
 "cells": [
  {
   "cell_type": "code",
   "execution_count": 1,
   "metadata": {},
   "outputs": [],
   "source": [
    "import pandas as pd\n",
    "import numpy as np\n",
    "import random\n",
    "import matplotlib.pyplot as plt\n",
    "import torch"
   ]
  },
  {
   "cell_type": "markdown",
   "metadata": {},
   "source": [
    "# Task1."
   ]
  },
  {
   "cell_type": "markdown",
   "metadata": {},
   "source": [
    "*Task 1-1. 데이터 불러오기*"
   ]
  },
  {
   "cell_type": "code",
   "execution_count": 2,
   "metadata": {},
   "outputs": [
    {
     "data": {
      "text/html": [
       "<div>\n",
       "<style scoped>\n",
       "    .dataframe tbody tr th:only-of-type {\n",
       "        vertical-align: middle;\n",
       "    }\n",
       "\n",
       "    .dataframe tbody tr th {\n",
       "        vertical-align: top;\n",
       "    }\n",
       "\n",
       "    .dataframe thead th {\n",
       "        text-align: right;\n",
       "    }\n",
       "</style>\n",
       "<table border=\"1\" class=\"dataframe\">\n",
       "  <thead>\n",
       "    <tr style=\"text-align: right;\">\n",
       "      <th></th>\n",
       "      <th>ID</th>\n",
       "      <th>최종가중치</th>\n",
       "      <th>학교ID</th>\n",
       "      <th>도시규모</th>\n",
       "      <th>도시규모별분석용</th>\n",
       "      <th>학년도</th>\n",
       "      <th>광역시도</th>\n",
       "      <th>시도별</th>\n",
       "      <th>학교급별</th>\n",
       "      <th>학교명</th>\n",
       "      <th>...</th>\n",
       "      <th>키</th>\n",
       "      <th>몸무게</th>\n",
       "      <th>혈당식전mgdl</th>\n",
       "      <th>총콜레스테롤mgdl</th>\n",
       "      <th>ASTUL</th>\n",
       "      <th>ALTUL</th>\n",
       "      <th>혈색소gdl</th>\n",
       "      <th>간염검사</th>\n",
       "      <th>수축기</th>\n",
       "      <th>이완기</th>\n",
       "    </tr>\n",
       "  </thead>\n",
       "  <tbody>\n",
       "    <tr>\n",
       "      <th>0</th>\n",
       "      <td>Aa011남10101</td>\n",
       "      <td>169.550665</td>\n",
       "      <td>Aa01</td>\n",
       "      <td>대도시/중소도시</td>\n",
       "      <td>특별/광역시</td>\n",
       "      <td>2015</td>\n",
       "      <td>서울</td>\n",
       "      <td>서울특별시교육청</td>\n",
       "      <td>1</td>\n",
       "      <td>서울대도초등학교</td>\n",
       "      <td>...</td>\n",
       "      <td>125.8</td>\n",
       "      <td>27.3</td>\n",
       "      <td>NaN</td>\n",
       "      <td>NaN</td>\n",
       "      <td>NaN</td>\n",
       "      <td>NaN</td>\n",
       "      <td>NaN</td>\n",
       "      <td>NaN</td>\n",
       "      <td>77.0</td>\n",
       "      <td>58.0</td>\n",
       "    </tr>\n",
       "    <tr>\n",
       "      <th>1</th>\n",
       "      <td>Aa011남10102</td>\n",
       "      <td>169.550665</td>\n",
       "      <td>Aa01</td>\n",
       "      <td>대도시/중소도시</td>\n",
       "      <td>특별/광역시</td>\n",
       "      <td>2015</td>\n",
       "      <td>서울</td>\n",
       "      <td>서울특별시교육청</td>\n",
       "      <td>1</td>\n",
       "      <td>서울대도초등학교</td>\n",
       "      <td>...</td>\n",
       "      <td>124.3</td>\n",
       "      <td>25.4</td>\n",
       "      <td>NaN</td>\n",
       "      <td>NaN</td>\n",
       "      <td>NaN</td>\n",
       "      <td>NaN</td>\n",
       "      <td>NaN</td>\n",
       "      <td>NaN</td>\n",
       "      <td>83.0</td>\n",
       "      <td>51.0</td>\n",
       "    </tr>\n",
       "    <tr>\n",
       "      <th>2</th>\n",
       "      <td>Aa011남10103</td>\n",
       "      <td>169.550665</td>\n",
       "      <td>Aa01</td>\n",
       "      <td>대도시/중소도시</td>\n",
       "      <td>특별/광역시</td>\n",
       "      <td>2015</td>\n",
       "      <td>서울</td>\n",
       "      <td>서울특별시교육청</td>\n",
       "      <td>1</td>\n",
       "      <td>서울대도초등학교</td>\n",
       "      <td>...</td>\n",
       "      <td>119.2</td>\n",
       "      <td>23.5</td>\n",
       "      <td>NaN</td>\n",
       "      <td>NaN</td>\n",
       "      <td>NaN</td>\n",
       "      <td>NaN</td>\n",
       "      <td>NaN</td>\n",
       "      <td>NaN</td>\n",
       "      <td>103.0</td>\n",
       "      <td>65.0</td>\n",
       "    </tr>\n",
       "  </tbody>\n",
       "</table>\n",
       "<p>3 rows × 25 columns</p>\n",
       "</div>"
      ],
      "text/plain": [
       "            ID       최종가중치  학교ID      도시규모 도시규모별분석용   학년도 광역시도       시도별  \\\n",
       "0  Aa011남10101  169.550665  Aa01  대도시/중소도시   특별/광역시  2015   서울  서울특별시교육청   \n",
       "1  Aa011남10102  169.550665  Aa01  대도시/중소도시   특별/광역시  2015   서울  서울특별시교육청   \n",
       "2  Aa011남10103  169.550665  Aa01  대도시/중소도시   특별/광역시  2015   서울  서울특별시교육청   \n",
       "\n",
       "   학교급별       학교명  ...      키   몸무게  혈당식전mgdl 총콜레스테롤mgdl ASTUL  ALTUL  혈색소gdl  \\\n",
       "0     1  서울대도초등학교  ...  125.8  27.3       NaN        NaN   NaN    NaN     NaN   \n",
       "1     1  서울대도초등학교  ...  124.3  25.4       NaN        NaN   NaN    NaN     NaN   \n",
       "2     1  서울대도초등학교  ...  119.2  23.5       NaN        NaN   NaN    NaN     NaN   \n",
       "\n",
       "   간염검사    수축기   이완기  \n",
       "0   NaN   77.0  58.0  \n",
       "1   NaN   83.0  51.0  \n",
       "2   NaN  103.0  65.0  \n",
       "\n",
       "[3 rows x 25 columns]"
      ]
     },
     "execution_count": 2,
     "metadata": {},
     "output_type": "execute_result"
    }
   ],
   "source": [
    "data = pd.read_csv('./p01_input.csv', encoding = 'cp949') #한글로 인코딩\n",
    "data.head(3)"
   ]
  },
  {
   "cell_type": "markdown",
   "metadata": {},
   "source": [
    "*Task 1-2. 데이터 중에서 키와 몸무게 데이터만 골라내기*"
   ]
  },
  {
   "cell_type": "code",
   "execution_count": 3,
   "metadata": {
    "scrolled": false
   },
   "outputs": [
    {
     "data": {
      "text/html": [
       "<div>\n",
       "<style scoped>\n",
       "    .dataframe tbody tr th:only-of-type {\n",
       "        vertical-align: middle;\n",
       "    }\n",
       "\n",
       "    .dataframe tbody tr th {\n",
       "        vertical-align: top;\n",
       "    }\n",
       "\n",
       "    .dataframe thead th {\n",
       "        text-align: right;\n",
       "    }\n",
       "</style>\n",
       "<table border=\"1\" class=\"dataframe\">\n",
       "  <thead>\n",
       "    <tr style=\"text-align: right;\">\n",
       "      <th></th>\n",
       "      <th>키</th>\n",
       "      <th>몸무게</th>\n",
       "    </tr>\n",
       "  </thead>\n",
       "  <tbody>\n",
       "    <tr>\n",
       "      <th>0</th>\n",
       "      <td>125.8</td>\n",
       "      <td>27.3</td>\n",
       "    </tr>\n",
       "    <tr>\n",
       "      <th>1</th>\n",
       "      <td>124.3</td>\n",
       "      <td>25.4</td>\n",
       "    </tr>\n",
       "    <tr>\n",
       "      <th>2</th>\n",
       "      <td>119.2</td>\n",
       "      <td>23.5</td>\n",
       "    </tr>\n",
       "  </tbody>\n",
       "</table>\n",
       "</div>"
      ],
      "text/plain": [
       "       키   몸무게\n",
       "0  125.8  27.3\n",
       "1  124.3  25.4\n",
       "2  119.2  23.5"
      ]
     },
     "execution_count": 3,
     "metadata": {},
     "output_type": "execute_result"
    }
   ],
   "source": [
    "he_we = data[['키', '몸무게']]\n",
    "he_we.head(3)"
   ]
  },
  {
   "cell_type": "markdown",
   "metadata": {},
   "source": [
    "# Task 2. 학생들의 평균키와 평균 몸무게 구하기"
   ]
  },
  {
   "cell_type": "code",
   "execution_count": 4,
   "metadata": {},
   "outputs": [
    {
     "data": {
      "text/plain": [
       "키      154.564444\n",
       "몸무게     50.207591\n",
       "dtype: float64"
      ]
     },
     "execution_count": 4,
     "metadata": {},
     "output_type": "execute_result"
    }
   ],
   "source": [
    "he_we.mean()"
   ]
  },
  {
   "cell_type": "code",
   "execution_count": 5,
   "metadata": {},
   "outputs": [
    {
     "name": "stdout",
     "output_type": "stream",
     "text": [
      "154.56\n",
      "50.21\n"
     ]
    }
   ],
   "source": [
    "print(round(he_we['키'].mean(),2))\n",
    "print(round(he_we['몸무게'].mean(),2))"
   ]
  },
  {
   "cell_type": "code",
   "execution_count": 6,
   "metadata": {
    "scrolled": true
   },
   "outputs": [
    {
     "name": "stdout",
     "output_type": "stream",
     "text": [
      "평균 키: 154.56cm\n",
      "평균 몸무게: 50.21kg\n"
     ]
    }
   ],
   "source": [
    "print('평균 키: '+ str(round(he_we.mean()[0],2)) + 'cm' \\\n",
    "      + '\\n평균 몸무게: '+ str(round(he_we.mean()[1],2))+ 'kg')"
   ]
  },
  {
   "cell_type": "markdown",
   "metadata": {},
   "source": [
    "# Task 3. 키와 몸무게 사이의 상관관계(Pearson Correlation Coeffcient) 구하기"
   ]
  },
  {
   "cell_type": "markdown",
   "metadata": {},
   "source": [
    "### 결측치 행 삭제"
   ]
  },
  {
   "cell_type": "code",
   "execution_count": 7,
   "metadata": {},
   "outputs": [],
   "source": [
    "null_idx = he_we.query(\"키 == 'NaN' or 몸무게 == 'NaN'\").index.tolist()\n",
    "he_we = he_we.drop(null_idx)"
   ]
  },
  {
   "cell_type": "code",
   "execution_count": 8,
   "metadata": {},
   "outputs": [],
   "source": [
    "#피어슨 유사도 함수\n",
    "def pearson_cor(v1, v2):\n",
    "    v1_c = v1 - v1.mean()\n",
    "    v2_c = v2 - v2.mean()\n",
    "    denom = np.sqrt(np.sum(v1_c ** 2) * np.sum(v2_c ** 2))\n",
    "    if denom != 0:\n",
    "        return round(np.sum(v1_c * v2_c) / denom, 5)\n",
    "    else:\n",
    "        return 0 # 값이 0이라면 0을 반환"
   ]
  },
  {
   "cell_type": "code",
   "execution_count": 9,
   "metadata": {},
   "outputs": [
    {
     "name": "stdout",
     "output_type": "stream",
     "text": [
      "피어슨 상관계수: 0.84901\n"
     ]
    }
   ],
   "source": [
    "#피어슨 상관계수 함수 실행\n",
    "height = he_we['키']\n",
    "weight = he_we['몸무게']\n",
    "\n",
    "print('피어슨 상관계수: ' + str(pearson_cor(height, weight)))"
   ]
  },
  {
   "cell_type": "markdown",
   "metadata": {},
   "source": [
    "# Task 4. Linear Regression을 사용하여 키와 몸무게 사이의 선형관계를 찾기\n",
    "<p>(직선의 방정식 구하기: y = wx + b에서 w와 b의 값을 구하기) </p>"
   ]
  },
  {
   "cell_type": "markdown",
   "metadata": {},
   "source": [
    "*Task 4-1. 가설, 비용 설정하기*"
   ]
  },
  {
   "cell_type": "code",
   "execution_count": 10,
   "metadata": {},
   "outputs": [],
   "source": [
    "# 키(x), 몸무게(y)를 Tensor자료 구조로 변경.\n",
    "x_train = torch.unsqueeze(torch.FloatTensor(he_we['키']), dim = 1)\n",
    "y_train = torch.unsqueeze(torch.FloatTensor(he_we['몸무게']), dim = 1)"
   ]
  },
  {
   "cell_type": "code",
   "execution_count": 11,
   "metadata": {},
   "outputs": [
    {
     "data": {
      "image/png": "[encoded data removed]",
      "text/plain": [
       "<Figure size 432x288 with 1 Axes>"
      ]
     },
     "metadata": {
      "needs_background": "light"
     },
     "output_type": "display_data"
    }
   ],
   "source": [
    "# 주어진 데이터의 산포도 확인\n",
    "plt.scatter(x_train, y_train, c = 'darkblue', s = 2)\n",
    "\n",
    "plt.title('Height & Weight Scatter Graph', fontsize = 15)\n",
    "plt.ylabel(\"Weight(Y)\", fontsize = 13)\n",
    "plt.xlabel(\"Height(X)\", fontsize = 13)\n",
    "\n",
    "plt.show()"
   ]
  },
  {
   "cell_type": "code",
   "execution_count": 12,
   "metadata": {},
   "outputs": [],
   "source": [
    "# W, b 초기화\n",
    "W = torch.zeros(1, 1)\n",
    "b = torch.zeros(1, 1)\n",
    "\n",
    "# learning rate를 0.01로 하였을 때 overshooting 발생..\n",
    "# 매우 작은수로 설정하였을 때 발산하지 않았음.\n",
    "lr = 1e-5"
   ]
  },
  {
   "cell_type": "code",
   "execution_count": 13,
   "metadata": {},
   "outputs": [],
   "source": [
    "#가설 & 비용\n",
    "hypothesis = x_train * W + b\n",
    "cost = torch.mean((hypothesis - y_train) ** 2)"
   ]
  },
  {
   "cell_type": "markdown",
   "metadata": {},
   "source": [
    "*Task 4-2. 가설, 경사하강법으로 비용을 최소로 만들도록 학습하기(torch.optim 사용하지 말고 구현해보기)*"
   ]
  },
  {
   "cell_type": "code",
   "execution_count": 14,
   "metadata": {
    "scrolled": true
   },
   "outputs": [
    {
     "name": "stdout",
     "output_type": "stream",
     "text": [
      "epoch: 0, W: 0.160127, b: 0.001004, cost: 2812.360352\n",
      "epoch: 1000, W: 0.331249, b: -0.017394, cost: 161.121124\n",
      "epoch: 2000, W: 0.331373, b: -0.036880, cost: 161.083160\n",
      "epoch: 3000, W: 0.331498, b: -0.056362, cost: 161.045227\n",
      "epoch: 4000, W: 0.331622, b: -0.075839, cost: 161.007278\n",
      "epoch: 5000, W: 0.331747, b: -0.095311, cost: 160.969330\n",
      "epoch: 6000, W: 0.331871, b: -0.114780, cost: 160.931412\n",
      "epoch: 7000, W: 0.331996, b: -0.134242, cost: 160.893509\n",
      "epoch: 8000, W: 0.332120, b: -0.153703, cost: 160.855682\n",
      "epoch: 9000, W: 0.332245, b: -0.173158, cost: 160.817810\n",
      "epoch: 10000, W: 0.332369, b: -0.192604, cost: 160.779984\n"
     ]
    }
   ],
   "source": [
    "for epoch in range(10001):\n",
    "    W.requires_grad_(True)\n",
    "    b.requires_grad_(True)\n",
    "    \n",
    "    # hypothesis, cost 설정\n",
    "    hypothesis = x_train * W + b\n",
    "    cost = torch.mean((hypothesis - y_train) ** 2)\n",
    "    \n",
    "    # 경사 계산\n",
    "    # W, b 업데이트\n",
    "    cost.backward()\n",
    "    with torch.no_grad() as grd:\n",
    "        W = W - lr * W.grad\n",
    "        b = b - lr * b.grad\n",
    "    \n",
    "    if epoch % 1000 == 0:\n",
    "        print(f\"epoch: {epoch}, W: {W.squeeze().item():.6f}, b: {b.item():.6f}, cost: {cost.item():.6f}\")"
   ]
  },
  {
   "cell_type": "code",
   "execution_count": 15,
   "metadata": {},
   "outputs": [
    {
     "name": "stdout",
     "output_type": "stream",
     "text": [
      "<경사하강법의 결과> \n",
      "W= 0.3324 b= -0.1926\n"
     ]
    }
   ],
   "source": [
    "print('<경사하강법의 결과> \\nW= ' + str(round(W.item(),4)) + \\\n",
    "      ' b= ' + str(round(b.item(), 4)))"
   ]
  },
  {
   "cell_type": "markdown",
   "metadata": {},
   "source": [
    "# Task5. Matplotlib을 사용하여 좌표평면상에 입력값(키, 몸무게)과 구한 직선 그려보기"
   ]
  },
  {
   "cell_type": "markdown",
   "metadata": {},
   "source": [
    "*Task 5-1. 입력값(키, 몸무게)를 산포도로 그리기(x축 = 키, y축 = 몸무게)*"
   ]
  },
  {
   "cell_type": "code",
   "execution_count": 16,
   "metadata": {},
   "outputs": [
    {
     "data": {
      "image/png": "[encoded data removed]",
      "text/plain": [
       "<Figure size 432x288 with 1 Axes>"
      ]
     },
     "metadata": {
      "needs_background": "light"
     },
     "output_type": "display_data"
    }
   ],
   "source": [
    "W.requires_grad_(False)\n",
    "b.requires_grad_(False)\n",
    "\n",
    "plt.scatter(x_train, y_train, c = \"black\", label = \"Training Data\", s = 3)\n",
    "\n",
    "plt.title('Height & Weight Scatter', fontsize = 15)\n",
    "plt.ylabel(\"Weight(Y)\", fontsize = 13)\n",
    "plt.xlabel(\"Height(X)\", fontsize = 13)\n",
    "\n",
    "plt.show()"
   ]
  },
  {
   "cell_type": "markdown",
   "metadata": {},
   "source": [
    "*Task 5-2. w, b값을 이용하여 직선 그리기(산포도와 일치하는지 확인하여 학습이 잘 되었는지 확인하기 위함.*"
   ]
  },
  {
   "cell_type": "code",
   "execution_count": 17,
   "metadata": {},
   "outputs": [
    {
     "data": {
      "image/png": "[encoded data removed]",
      "text/plain": [
       "<Figure size 432x288 with 1 Axes>"
      ]
     },
     "metadata": {
      "needs_background": "light"
     },
     "output_type": "display_data"
    }
   ],
   "source": [
    "W.requires_grad_(False)\n",
    "b.requires_grad_(False)\n",
    "\n",
    "plt.scatter(x_train, y_train, c = \"black\", label = \"Training Data\", s = 1)\n",
    "plt.ylabel(\"Weight(Y)\")\n",
    "plt.xlabel(\"Height(X)\")\n",
    "\n",
    "X = torch.linspace(100, 190).unsqueeze(1)\n",
    "Y = X * W + b\n",
    "\n",
    "plt.title('Linear Regression of Height & Weight', fontsize = 15)\n",
    "plt.ylabel(\"Weight(Y)\")\n",
    "plt.xlabel(\"Height(X)\")\n",
    "\n",
    "plt.plot(X, Y, c = \"red\", label = \"Fitting line\")\n",
    "plt.legend()\n",
    "plt.show()"
   ]
  }
 ],
 "metadata": {
  "kernelspec": {
   "display_name": "Python 3",
   "language": "python",
   "name": "python3"
  },
  "language_info": {
   "codemirror_mode": {
    "name": "ipython",
    "version": 3
   },
   "file_extension": ".py",
   "mimetype": "text/x-python",
   "name": "python",
   "nbconvert_exporter": "python",
   "pygments_lexer": "ipython3",
   "version": "3.7.6"
  }
 },
 "nbformat": 4,
 "nbformat_minor": 4
}
