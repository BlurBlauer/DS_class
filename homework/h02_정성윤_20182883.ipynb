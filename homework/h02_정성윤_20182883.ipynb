{
 "cells": [
  {
   "cell_type": "markdown",
   "metadata": {},
   "source": [
    "## Pytorch로 Logistic Regression 구현"
   ]
  },
  {
   "cell_type": "code",
   "execution_count": 1,
   "metadata": {},
   "outputs": [],
   "source": [
    "import torch\n",
    "#pip install torch torchvision"
   ]
  },
  {
   "cell_type": "code",
   "execution_count": 2,
   "metadata": {},
   "outputs": [],
   "source": [
    "# 학습 데이터 생성\n",
    "x_train = torch.FloatTensor([[1], [2], [3], [4], [5], [2.5], [3.5], [0],[3.1], [2.7], [2.8], [2.9]])\n",
    "y_train = torch.FloatTensor([[1], [1], [1], [0], [0], [0], [0], [1], [0], [1], [1], [1]])"
   ]
  },
  {
   "cell_type": "code",
   "execution_count": 3,
   "metadata": {},
   "outputs": [],
   "source": [
    "# W, b 초기화\n",
    "#Learning Rate 설정\n",
    "\n",
    "W = torch.zeros(1,1)\n",
    "b = torch.zeros(1,1)\n",
    "lr = 1.0"
   ]
  },
  {
   "cell_type": "code",
   "execution_count": 4,
   "metadata": {},
   "outputs": [
    {
     "name": "stdout",
     "output_type": "stream",
     "text": [
      "epoch: 0, cost: 0.693147, W: -0.154167, b: 0.083333\n",
      "epoch: 300, cost: 0.390820, W: -2.174323, b: 6.609555\n",
      "epoch: 600, cost: 0.383699, W: -2.620779, b: 7.953164\n",
      "epoch: 900, cost: 0.382149, W: -2.832521, b: 8.587361\n",
      "epoch: 1200, cost: 0.381706, W: -2.946401, b: 8.927779\n",
      "epoch: 1500, cost: 0.381565, W: -3.010968, b: 9.120598\n",
      "epoch: 1800, cost: 0.381517, W: -3.048561, b: 9.232801\n",
      "epoch: 2100, cost: 0.381500, W: -3.070766, b: 9.299055\n",
      "epoch: 2400, cost: 0.381494, W: -3.083992, b: 9.338511\n",
      "epoch: 2700, cost: 0.381492, W: -3.091908, b: 9.362126\n",
      "epoch: 3000, cost: 0.381491, W: -3.096662, b: 9.376307\n"
     ]
    }
   ],
   "source": [
    "# 반복 횟수 설정\n",
    "# W와 b의 required_grad를 True로 설정\n",
    "\n",
    "for epoch in range(3001):\n",
    "    W.requires_grad_(True)\n",
    "    b.requires_grad_(True)\n",
    "    \n",
    "    #Hypothesis, cost 설정\n",
    "    hypothesis = torch.sigmoid(torch.mm(x_train, W) + b)\n",
    "    cost = torch.mean(\n",
    "    -y_train * torch.log(hypothesis)\n",
    "    -(1 -  y_train) * torch.log(1-hypothesis))\n",
    "    \n",
    "    # 경사 계산\n",
    "    # W, b 업데이트\n",
    "    cost.backward()\n",
    "    with torch.no_grad() as grd:\n",
    "        W = W - lr * W.grad\n",
    "        b = b - lr * b.grad\n",
    "        \n",
    "    if epoch % 300 == 0:\n",
    "        print('epoch: {}, cost: {:.6f}, W: {:.6f}, b: {:.6f}'\n",
    "              .format(epoch, cost.item(), W.squeeze().item(), b.item()))\n",
    "        #환경에서는 tensor객체를 string으로 바로 가져오지 못하여 item()을 사용함."
   ]
  },
  {
   "cell_type": "code",
   "execution_count": 5,
   "metadata": {},
   "outputs": [
    {
     "name": "stdout",
     "output_type": "stream",
     "text": [
      "tensor([[0.],\n",
      "        [1.]])\n"
     ]
    }
   ],
   "source": [
    "# x = [4.5] 혹은 [1.1]일 때, y는 0일까 1일까?\n",
    "\n",
    "x_test = torch.FloatTensor([[4.5],[1.1]])\n",
    "test_result = torch.sigmoid(torch.mm(x_test, W) + b)\n",
    "\n",
    "print(torch.round(test_result))"
   ]
  },
  {
   "cell_type": "markdown",
   "metadata": {},
   "source": [
    "## 여러가지 Optimizer 사용해보기"
   ]
  },
  {
   "cell_type": "code",
   "execution_count": 6,
   "metadata": {},
   "outputs": [],
   "source": [
    "optimizer = torch.optim.SGD([W,b], lr=1.0)"
   ]
  },
  {
   "cell_type": "code",
   "execution_count": 7,
   "metadata": {},
   "outputs": [],
   "source": [
    "# 미리 구현된 모듈 사용\n",
    "\n",
    "#optimizer.zero_grad()\n",
    "#cost.backward()\n",
    "#optimizer.step()"
   ]
  },
  {
   "cell_type": "code",
   "execution_count": 8,
   "metadata": {},
   "outputs": [],
   "source": [
    "#pytorch에는 여러가지 optimizer가 있음 \n",
    "optimizer = torch.optim.SGD([W,b], lr=1.0)\n",
    "optimizer = torch.optim.Adam([W,b], lr=1.0)\n",
    "optimizer = torch.optim.Adadelta([W,b])\n",
    "optimizer = torch.optim.Adagrad([W,b])\n",
    "optimizer = torch.optim.RMSprop([W,b])"
   ]
  },
  {
   "cell_type": "markdown",
   "metadata": {},
   "source": [
    "## Matplotlib으로 결과 시각화"
   ]
  },
  {
   "cell_type": "code",
   "execution_count": 9,
   "metadata": {},
   "outputs": [
    {
     "data": {
      "image/png": "[encoded data removed]",
      "text/plain": [
       "<Figure size 432x288 with 1 Axes>"
      ]
     },
     "metadata": {
      "needs_background": "light"
     },
     "output_type": "display_data"
    }
   ],
   "source": [
    "import matplotlib.pyplot as plt\n",
    "W.requires_grad_(False)\n",
    "b.requires_grad_(False)\n",
    "\n",
    "plt.scatter(x_train, y_train, c = \"black\", label = \"Training Data\")\n",
    "\n",
    "X = torch.linspace(0, 5, 100).unsqueeze(1)\n",
    "Y = torch.sigmoid(torch.mm(X, W) + b)\n",
    "\n",
    "#label 달기\n",
    "plt.ylabel(\"Probability of 1 (Y)\")\n",
    "plt.xlabel(\"Input (X)\")\n",
    "\n",
    "plt.plot(X, Y, c = \"#ff0000\", label = \"Fitting line\")\n",
    "plt.legend()\n",
    "plt.show()"
   ]
  }
 ],
 "metadata": {
  "kernelspec": {
   "display_name": "Python 3",
   "language": "python",
   "name": "python3"
  },
  "language_info": {
   "codemirror_mode": {
    "name": "ipython",
    "version": 3
   },
   "file_extension": ".py",
   "mimetype": "text/x-python",
   "name": "python",
   "nbconvert_exporter": "python",
   "pygments_lexer": "ipython3",
   "version": "3.7.6"
  }
 },
 "nbformat": 4,
 "nbformat_minor": 4
}
