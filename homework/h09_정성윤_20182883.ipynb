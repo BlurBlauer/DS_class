{
 "cells": [
  {
   "cell_type": "code",
   "execution_count": 1,
   "metadata": {},
   "outputs": [],
   "source": [
    "import zipfile\n",
    "import requests\n",
    "from collections import Counter\n",
    "import re\n",
    "import math"
   ]
  },
  {
   "cell_type": "markdown",
   "metadata": {},
   "source": [
    "# data load"
   ]
  },
  {
   "cell_type": "code",
   "execution_count": 2,
   "metadata": {},
   "outputs": [],
   "source": [
    "x = requests.get('http://www.dt.fee.unicamp.br/~tiago/smsspamcollection/smsspamcollection.zip')\n",
    "open('spam.zip', 'wb').write(x.content)\n",
    "zipfile.ZipFile('spam.zip').extractall('./')"
   ]
  },
  {
   "cell_type": "code",
   "execution_count": 3,
   "metadata": {},
   "outputs": [],
   "source": [
    "with open('SMSSpamCollection.txt', \"r\") as f:\n",
    "    data = [line.strip().split('\\t') for line in f]"
   ]
  },
  {
   "cell_type": "markdown",
   "metadata": {},
   "source": [
    "# 데이터 나누기"
   ]
  },
  {
   "cell_type": "code",
   "execution_count": 4,
   "metadata": {},
   "outputs": [],
   "source": [
    "train_size = int(0.8 * len(data))\n",
    "test_size = len(data)- train_size\n",
    "\n",
    "train = data[:train_size]\n",
    "test = data[train_size:]"
   ]
  },
  {
   "cell_type": "markdown",
   "metadata": {},
   "source": [
    "# 사전 확률 구하기"
   ]
  },
  {
   "cell_type": "code",
   "execution_count": 5,
   "metadata": {},
   "outputs": [],
   "source": [
    "count = Counter([ s for s, c in train])\n",
    "\n",
    "prior_spam = count['spam'] / (count['spam'] + count['ham'])\n",
    "prior_ham = count['ham'] / (count['spam'] + count['ham'])"
   ]
  },
  {
   "cell_type": "code",
   "execution_count": 6,
   "metadata": {},
   "outputs": [
    {
     "name": "stdout",
     "output_type": "stream",
     "text": [
      "prior_spam: 0.13500784929356358\n",
      "prior_ham:  0.8649921507064364\n"
     ]
    }
   ],
   "source": [
    "print('prior_spam:', prior_spam)\n",
    "print('prior_ham: ', prior_ham)"
   ]
  },
  {
   "cell_type": "markdown",
   "metadata": {},
   "source": [
    "# Word Count"
   ]
  },
  {
   "cell_type": "code",
   "execution_count": 7,
   "metadata": {},
   "outputs": [],
   "source": [
    "# 스팸 메시지들에서 각 단어가 등장한 횟수 세기\n",
    "spam_words = Counter([w.group()\\\n",
    "                    for s, c in train if s == \"spam\" \\\n",
    "                    for w in re.finditer('[0-9a-z_]+', c.lower())])\n",
    "\n",
    "# 일반 메시지들에서 각 단어가 등장한 횟수 세기\n",
    "ham_words = Counter([w.group()\\\n",
    "                    for s, c in train if s == \"ham\" \\\n",
    "                    for w in re.finditer('[0-9a-z_]+', c.lower())])"
   ]
  },
  {
   "cell_type": "code",
   "execution_count": 8,
   "metadata": {},
   "outputs": [],
   "source": [
    "#단어 집합 크기 구하기\n",
    "num_unique_words = len(set(w.group() for s, c in train \\\n",
    "                          for w in re.finditer('[0-9a-z_]+', c.lower())))\n",
    "\n",
    "# 스팸 메일의 전체 단어수 세기\n",
    "num_spam_words = sum(spam_words.values())\n",
    "\n",
    "# 일반 메일의 전체 단어수 세기\n",
    "num_ham_words = sum(ham_words.values())"
   ]
  },
  {
   "cell_type": "markdown",
   "metadata": {},
   "source": [
    "# Predict() 함수 정의"
   ]
  },
  {
   "cell_type": "markdown",
   "metadata": {},
   "source": [
    "- naive bayes 방법에 따라 spam/ham 점수를 구하여 비교\n",
    "- 라플라스 스무딩 적용\n",
    "- 로그 합산"
   ]
  },
  {
   "cell_type": "code",
   "execution_count": 9,
   "metadata": {},
   "outputs": [],
   "source": [
    "def predict(text, k = 0.5):\n",
    "    words = re.findall('[0-9a-z_]+', text.lower())\n",
    "    \n",
    "    #denom_spam = num_spam_words + num_unique_words * k\n",
    "    #denom_ham = num_ham_words + num_unique_words * k\n",
    "    \n",
    "    spam_score = math.log(prior_spam)\n",
    "    for w in words:\n",
    "        spam_score += math.log((spam_words[w] + k) / (num_spam_words + num_unique_words *k))\n",
    "    \n",
    "    ham_score = math.log(prior_ham)\n",
    "    for w in words:\n",
    "        ham_score += math.log((ham_words[w] + k)  / (num_ham_words +  num_unique_words *k))\n",
    "        \n",
    "    return spam_score > ham_score"
   ]
  },
  {
   "cell_type": "markdown",
   "metadata": {},
   "source": [
    "# 테스트 해보기"
   ]
  },
  {
   "cell_type": "code",
   "execution_count": 10,
   "metadata": {},
   "outputs": [],
   "source": [
    "tp = 0\n",
    "tn = 0\n",
    "fp = 0\n",
    "fn = 0"
   ]
  },
  {
   "cell_type": "code",
   "execution_count": 11,
   "metadata": {},
   "outputs": [],
   "source": [
    "for s, c in test:\n",
    "    pred = predict(c)\n",
    "    \n",
    "    if pred and s == 'spam':\n",
    "        tp += 1\n",
    "    elif pred and s != 'spam':\n",
    "        fp += 1\n",
    "    elif not pred and s == 'spam':\n",
    "        fn += 1\n",
    "    else:\n",
    "        tn += 1"
   ]
  },
  {
   "cell_type": "code",
   "execution_count": 12,
   "metadata": {},
   "outputs": [
    {
     "name": "stdout",
     "output_type": "stream",
     "text": [
      "140 956 14 5\n"
     ]
    }
   ],
   "source": [
    "print(tp, tn, fp, fn)"
   ]
  },
  {
   "cell_type": "code",
   "execution_count": 13,
   "metadata": {},
   "outputs": [
    {
     "name": "stdout",
     "output_type": "stream",
     "text": [
      "accuracy:  0.9829596412556054\n",
      "Precision:  0.9090909090909091\n",
      "Recall:  0.9655172413793104\n",
      "F1_Score:  0.9364548494983278\n"
     ]
    }
   ],
   "source": [
    "# Precision, Recall, F1 Score, Accuacy\n",
    "print('accuracy: ', (tp + tn) / (tp + fp + tn + fn)     )\n",
    "\n",
    "print('Precision: ', tp / (tp + fp)) \n",
    "\n",
    "print('Recall: ', tp / (tp + fn))\n",
    "\n",
    "print('F1_Score: ',2 /(1/ (tp / (tp + fp))+1/(tp / (tp + fn)))    )"
   ]
  }
 ],
 "metadata": {
  "kernelspec": {
   "display_name": "Python 3",
   "language": "python",
   "name": "python3"
  },
  "language_info": {
   "codemirror_mode": {
    "name": "ipython",
    "version": 3
   },
   "file_extension": ".py",
   "mimetype": "text/x-python",
   "name": "python",
   "nbconvert_exporter": "python",
   "pygments_lexer": "ipython3",
   "version": "3.7.6"
  }
 },
 "nbformat": 4,
 "nbformat_minor": 4
}
