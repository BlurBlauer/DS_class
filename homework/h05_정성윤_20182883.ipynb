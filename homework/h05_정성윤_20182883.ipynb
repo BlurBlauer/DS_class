{
 "cells": [
  {
   "cell_type": "code",
   "execution_count": 1,
   "metadata": {},
   "outputs": [],
   "source": [
    "import torch\n",
    "import pandas as pd\n",
    "import torch.nn.functional as F\n",
    "import matplotlib.pyplot as plt"
   ]
  },
  {
   "cell_type": "markdown",
   "metadata": {},
   "source": [
    "# 파일 불러오기"
   ]
  },
  {
   "cell_type": "code",
   "execution_count": 2,
   "metadata": {},
   "outputs": [],
   "source": [
    "train = pd.read_csv(\"ml-100k/ua.base\",\n",
    "                    sep = \"\\t\", names = ['user', 'movie', 'rating', 'timestamp'])\n",
    "test = pd.read_csv(\"ml-100k/ua.test\",\n",
    "                  sep = '\\t', names = ['user', 'movie', 'rating', 'timestamp'])"
   ]
  },
  {
   "cell_type": "code",
   "execution_count": 3,
   "metadata": {
    "scrolled": true
   },
   "outputs": [
    {
     "data": {
      "text/html": [
       "<div>\n",
       "<style scoped>\n",
       "    .dataframe tbody tr th:only-of-type {\n",
       "        vertical-align: middle;\n",
       "    }\n",
       "\n",
       "    .dataframe tbody tr th {\n",
       "        vertical-align: top;\n",
       "    }\n",
       "\n",
       "    .dataframe thead th {\n",
       "        text-align: right;\n",
       "    }\n",
       "</style>\n",
       "<table border=\"1\" class=\"dataframe\">\n",
       "  <thead>\n",
       "    <tr style=\"text-align: right;\">\n",
       "      <th></th>\n",
       "      <th>user</th>\n",
       "      <th>movie</th>\n",
       "      <th>rating</th>\n",
       "      <th>timestamp</th>\n",
       "    </tr>\n",
       "  </thead>\n",
       "  <tbody>\n",
       "    <tr>\n",
       "      <th>0</th>\n",
       "      <td>1</td>\n",
       "      <td>1</td>\n",
       "      <td>5</td>\n",
       "      <td>874965758</td>\n",
       "    </tr>\n",
       "    <tr>\n",
       "      <th>1</th>\n",
       "      <td>1</td>\n",
       "      <td>2</td>\n",
       "      <td>3</td>\n",
       "      <td>876893171</td>\n",
       "    </tr>\n",
       "    <tr>\n",
       "      <th>2</th>\n",
       "      <td>1</td>\n",
       "      <td>3</td>\n",
       "      <td>4</td>\n",
       "      <td>878542960</td>\n",
       "    </tr>\n",
       "    <tr>\n",
       "      <th>3</th>\n",
       "      <td>1</td>\n",
       "      <td>4</td>\n",
       "      <td>3</td>\n",
       "      <td>876893119</td>\n",
       "    </tr>\n",
       "    <tr>\n",
       "      <th>4</th>\n",
       "      <td>1</td>\n",
       "      <td>5</td>\n",
       "      <td>3</td>\n",
       "      <td>889751712</td>\n",
       "    </tr>\n",
       "  </tbody>\n",
       "</table>\n",
       "</div>"
      ],
      "text/plain": [
       "   user  movie  rating  timestamp\n",
       "0     1      1       5  874965758\n",
       "1     1      2       3  876893171\n",
       "2     1      3       4  878542960\n",
       "3     1      4       3  876893119\n",
       "4     1      5       3  889751712"
      ]
     },
     "execution_count": 3,
     "metadata": {},
     "output_type": "execute_result"
    }
   ],
   "source": [
    "train.head()"
   ]
  },
  {
   "cell_type": "code",
   "execution_count": 4,
   "metadata": {},
   "outputs": [],
   "source": [
    "# pytorch tensor 데이터로 변환\n",
    "items = torch.LongTensor(train['movie'])\n",
    "users = torch.LongTensor(train['user'])\n",
    "ratings = torch.FloatTensor(train['rating'])\n",
    "items_test = torch.LongTensor(test['movie'])\n",
    "users_test = torch.LongTensor(test['user'])\n",
    "ratings_test = torch.FloatTensor(test['rating'])"
   ]
  },
  {
   "cell_type": "markdown",
   "metadata": {},
   "source": [
    "# Latent Factor Model"
   ]
  },
  {
   "cell_type": "code",
   "execution_count": 5,
   "metadata": {},
   "outputs": [],
   "source": [
    "rank = 150 # rank 값을 올리면 학습이 오래 걸리지만 정확도가 향상됨.\n",
    "numItems = items.max() + 1\n",
    "numUsers = users.max() + 1\n",
    "P = torch.randn(numItems, rank, requires_grad=True)\n",
    "Q = torch.randn(numUsers, rank, requires_grad=True)"
   ]
  },
  {
   "cell_type": "code",
   "execution_count": 6,
   "metadata": {},
   "outputs": [
    {
     "data": {
      "text/plain": [
       "tensor(16.2792, grad_fn=<SumBackward0>)"
      ]
     },
     "execution_count": 6,
     "metadata": {},
     "output_type": "execute_result"
    }
   ],
   "source": [
    "# 1번째 movie의 백터와 1번째 유저 값을 내적 --> 예상 점수\n",
    "torch.sum(P[1] * Q[1])"
   ]
  },
  {
   "cell_type": "code",
   "execution_count": 7,
   "metadata": {
    "scrolled": true
   },
   "outputs": [
    {
     "name": "stdout",
     "output_type": "stream",
     "text": [
      "epoch: 0, cost: 165.321640\n",
      "epoch: 100, cost: 0.025527\n",
      "epoch: 200, cost: 0.005227\n",
      "epoch: 300, cost: 0.001517\n",
      "epoch: 400, cost: 0.000482\n",
      "epoch: 500, cost: 0.000177\n",
      "epoch: 600, cost: 0.000106\n",
      "epoch: 700, cost: 0.000059\n",
      "epoch: 800, cost: 0.000074\n",
      "epoch: 900, cost: 0.000074\n"
     ]
    }
   ],
   "source": [
    "# 기본 Matrix Factorizatoin 구현\n",
    "optimizer = torch.optim.Adam([P, Q], lr = 0.1)\n",
    "\n",
    "X = []\n",
    "Y = []\n",
    "Y_test = []\n",
    "\n",
    "\n",
    "for epoch in range(1000):\n",
    "    hypothesis = torch.sum(P[items] * Q[users], dim=1)\n",
    "    cost = F.mse_loss(hypothesis ,ratings)\n",
    "    \n",
    "    optimizer.zero_grad()\n",
    "    cost.backward()\n",
    "    optimizer.step()\n",
    "    \n",
    "    with torch.no_grad():\n",
    "        hypo_test = torch.sum(P[items_test] * Q[users_test], dim = 1)\n",
    "        cost_test = F.mse_loss(hypo_test, ratings_test)\n",
    "        \n",
    "        #epoch과 cost값을 X,Y에 저장함.\n",
    "        X.append(epoch)\n",
    "        Y.append(cost.item())\n",
    "        \n",
    "        Y_test.append(cost_test.item())\n",
    "        \n",
    "    if epoch % 100 == 0:\n",
    "        print(\"epoch: {}, cost: {:.6f}\".format(epoch, cost.item()))"
   ]
  },
  {
   "cell_type": "code",
   "execution_count": 8,
   "metadata": {},
   "outputs": [
    {
     "data": {
      "text/plain": [
       "tensor(4.9978, grad_fn=<SumBackward0>)"
      ]
     },
     "execution_count": 8,
     "metadata": {},
     "output_type": "execute_result"
    }
   ],
   "source": [
    "#학습 후, 이전과 다르게 수용가능한 점수로 예측함.\n",
    "torch.sum(P[1] * Q[1])"
   ]
  },
  {
   "cell_type": "code",
   "execution_count": 9,
   "metadata": {},
   "outputs": [
    {
     "data": {
      "image/png": "[encoded data removed]",
      "text/plain": [
       "<Figure size 720x504 with 1 Axes>"
      ]
     },
     "metadata": {
      "needs_background": "light"
     },
     "output_type": "display_data"
    }
   ],
   "source": [
    "# Matplotlib으로 epoch 마다 Training MSE 그려보기\n",
    "plt.figure(figsize = (10,7))\n",
    "plt.ylabel(\"MSE\")\n",
    "plt.xlabel('Epoch')\n",
    "plt.plot(X,Y, label = \"Training MSE\")\n",
    "plt.plot(X,Y_test, label = \"Test_MSE\")\n",
    "plt.legend()\n",
    "plt.show()"
   ]
  },
  {
   "cell_type": "markdown",
   "metadata": {},
   "source": [
    "# Regularization"
   ]
  },
  {
   "cell_type": "code",
   "execution_count": 5,
   "metadata": {},
   "outputs": [],
   "source": [
    "rank = 120 # rank을 120으로 설정\n",
    "numItems = items.max() + 1\n",
    "numUsers = users.max() + 1\n",
    "P = torch.randn(numItems, rank, requires_grad=True)\n",
    "Q = torch.randn(numUsers, rank, requires_grad=True)"
   ]
  },
  {
   "cell_type": "code",
   "execution_count": 6,
   "metadata": {},
   "outputs": [
    {
     "name": "stdout",
     "output_type": "stream",
     "text": [
      "epoch: 0, cost: 134.143860\n",
      "epoch: 100, cost: 0.309425\n",
      "epoch: 200, cost: 0.292895\n",
      "epoch: 300, cost: 0.288709\n",
      "epoch: 400, cost: 0.287187\n",
      "epoch: 500, cost: 0.286638\n",
      "epoch: 600, cost: 0.286408\n",
      "epoch: 700, cost: 0.286290\n",
      "epoch: 800, cost: 0.286218\n",
      "epoch: 900, cost: 0.286168\n"
     ]
    }
   ],
   "source": [
    "#오버피팅 발생 --> regularization을 이용해 학습을 제한\n",
    "optimizer = torch.optim.Adam([P, Q], lr = 0.1)\n",
    "\n",
    "X = []\n",
    "Y = []\n",
    "Y_test = []\n",
    "\n",
    "lambda1 = 0.0001\n",
    "lambda2 = 0.0001\n",
    "\n",
    "\n",
    "for epoch in range(1000):\n",
    "    hypothesis = torch.sum(P[items] * Q[users], dim=1)\n",
    "    cost = F.mse_loss(hypothesis ,ratings)\n",
    "    loss = cost + lambda1 * torch.sum(P**2)+ lambda2 * torch.sum(Q ** 2)\n",
    "    \n",
    "    optimizer.zero_grad()\n",
    "    loss.backward()\n",
    "    optimizer.step()\n",
    "    \n",
    "    with torch.no_grad():\n",
    "        hypo_test = torch.sum(P[items_test] * Q[users_test], dim = 1)\n",
    "        cost_test = F.mse_loss(hypo_test, ratings_test)\n",
    "        \n",
    "        #epoch과 cost값을 X,Y에 저장함.\n",
    "        X.append(epoch)\n",
    "        Y.append(cost.item())\n",
    "        \n",
    "        Y_test.append(cost_test.item())\n",
    "        \n",
    "    if epoch % 100 == 0:\n",
    "        print(\"epoch: {}, cost: {:.6f}\".format(epoch, cost.item()))"
   ]
  },
  {
   "cell_type": "code",
   "execution_count": 7,
   "metadata": {},
   "outputs": [
    {
     "data": {
      "image/png": "[encoded data removed]",
      "text/plain": [
       "<Figure size 720x504 with 1 Axes>"
      ]
     },
     "metadata": {
      "needs_background": "light"
     },
     "output_type": "display_data"
    }
   ],
   "source": [
    "# Matplotlib으로 epoch 마다 Training MSE 그려보기\n",
    "plt.figure(figsize = (10,7))\n",
    "plt.ylabel(\"MSE\")\n",
    "plt.xlabel('Epoch')\n",
    "plt.plot(X,Y, label = \"Training MSE\")\n",
    "plt.plot(X,Y_test, label = \"Test_MSE\")\n",
    "plt.legend()\n",
    "plt.show()"
   ]
  },
  {
   "cell_type": "markdown",
   "metadata": {},
   "source": [
    "# Bias"
   ]
  },
  {
   "cell_type": "code",
   "execution_count": 5,
   "metadata": {},
   "outputs": [],
   "source": [
    "rank = 150 # rank을 100으로 설정\n",
    "numItems = items.max() + 1\n",
    "numUsers = users.max() + 1\n",
    "P = torch.randn(numItems, rank, requires_grad=True)\n",
    "Q = torch.randn(numUsers, rank, requires_grad=True)"
   ]
  },
  {
   "cell_type": "code",
   "execution_count": 6,
   "metadata": {},
   "outputs": [
    {
     "name": "stdout",
     "output_type": "stream",
     "text": [
      "epoch: 0, cost: 154.201996\n",
      "epoch: 100, cost: 0.021295\n",
      "epoch: 200, cost: 0.003732\n",
      "epoch: 300, cost: 0.000934\n",
      "epoch: 400, cost: 0.000289\n",
      "epoch: 500, cost: 0.000121\n",
      "epoch: 600, cost: 0.000071\n",
      "epoch: 700, cost: 0.000053\n",
      "epoch: 800, cost: 0.000045\n",
      "epoch: 900, cost: 0.000040\n"
     ]
    }
   ],
   "source": [
    "#Bias 추가하기\n",
    "optimizer = torch.optim.Adam([P, Q], lr = 0.1)\n",
    "\n",
    "X = []\n",
    "Y = []\n",
    "Y_test = []\n",
    "\n",
    "#lambd값을 변경.\n",
    "lambda1 = 0.1\n",
    "lambda2 = 0.1\n",
    "lambda3 = 0.1\n",
    "lambda4 = 0.1\n",
    "\n",
    "bias_item = torch.randn(numItems, requires_grad = True)\n",
    "bias_user = torch.randn(numUsers, requires_grad = True)\n",
    "mean = (ratings.sum() / len(ratings)).item()\n",
    "\n",
    "\n",
    "for epoch in range(1000):\n",
    "    hypothesis = torch.sum(P[items] * Q[users], dim=1) + mean + bias_item[items] + bias_user[users]\n",
    "    cost = F.mse_loss(hypothesis ,ratings)\n",
    "    # loss계산을 mean으로 실행 --> 학습이 별로\n",
    "    loss = cost + lambda1 * torch.mean(P**2)+ lambda2 * torch.mean(Q ** 2)\\\n",
    "    + lambda3 * torch.mean(P  ** 2) + lambda4 * torch.mean(bias_user **2)\n",
    "    \n",
    "    optimizer.zero_grad()\n",
    "    loss.backward()\n",
    "    optimizer.step()\n",
    "    \n",
    "    with torch.no_grad():\n",
    "        hypo_test = torch.sum(P[items_test] * Q[users_test], dim = 1)\\\n",
    "        + mean + bias_item[items_test] + bias_user[users_test]\n",
    "        cost_test = F.mse_loss(hypo_test, ratings_test)\n",
    "        \n",
    "        #epoch과 cost값을 X,Y에 저장함.\n",
    "        X.append(epoch)\n",
    "        Y.append(cost.item())\n",
    "        \n",
    "        Y_test.append(cost_test.item())\n",
    "        \n",
    "    if epoch % 100 == 0:\n",
    "        print(\"epoch: {}, cost: {:.6f}\".format(epoch, cost.item()))"
   ]
  },
  {
   "cell_type": "code",
   "execution_count": 7,
   "metadata": {},
   "outputs": [
    {
     "data": {
      "image/png": "[encoded data removed]",
      "text/plain": [
       "<Figure size 720x504 with 1 Axes>"
      ]
     },
     "metadata": {
      "needs_background": "light"
     },
     "output_type": "display_data"
    }
   ],
   "source": [
    "# Matplotlib으로 epoch 마다 Training MSE 그려보기\n",
    "plt.figure(figsize = (10,7))\n",
    "plt.ylabel(\"MSE\")\n",
    "plt.xlabel('Epoch')\n",
    "plt.plot(X,Y, label = \"Training MSE\")\n",
    "plt.plot(X,Y_test, label = \"Test_MSE\")\n",
    "plt.legend()\n",
    "plt.show()"
   ]
  }
 ],
 "metadata": {
  "kernelspec": {
   "display_name": "Python 3",
   "language": "python",
   "name": "python3"
  },
  "language_info": {
   "codemirror_mode": {
    "name": "ipython",
    "version": 3
   },
   "file_extension": ".py",
   "mimetype": "text/x-python",
   "name": "python",
   "nbconvert_exporter": "python",
   "pygments_lexer": "ipython3",
   "version": "3.7.6"
  }
 },
 "nbformat": 4,
 "nbformat_minor": 4
}
